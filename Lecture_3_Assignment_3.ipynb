{
  "nbformat": 4,
  "nbformat_minor": 0,
  "metadata": {
    "colab": {
      "provenance": [],
      "authorship_tag": "ABX9TyMILzJaLRhIVvKl/c2Fab2v",
      "include_colab_link": true
    },
    "kernelspec": {
      "name": "ir",
      "display_name": "R"
    },
    "language_info": {
      "name": "R"
    }
  },
  "cells": [
    {
      "cell_type": "markdown",
      "metadata": {
        "id": "view-in-github",
        "colab_type": "text"
      },
      "source": [
        "<a href=\"https://colab.research.google.com/github/antonsysoev/comp_tech_2024/blob/main/Lecture_3_Assignment_3.ipynb\" target=\"_parent\"><img src=\"https://colab.research.google.com/assets/colab-badge.svg\" alt=\"Open In Colab\"/></a>"
      ]
    },
    {
      "cell_type": "markdown",
      "source": [
        "**Лабораторная работа 3 \"Решение задач линейной алгебры в R. Реализация метода прогонки\"**\n",
        "1. Создать функцию, которая принимает в качестве аргумента порядок матрицы и возвращает трехдиагональную матрицу.\n",
        "2. Создать функцию, которая реализует решение СЛАУ методом прогонки. В качестве оператора системы использовать матрицу, полученную на шаге 1. Столбец свободных членов генерировать случайным образом.\n",
        "3. Провести численные эксперименты над реализованным методом."
      ],
      "metadata": {
        "id": "t-bzKZ25fbK3"
      }
    },
    {
      "cell_type": "markdown",
      "source": [
        "Алгоритм Томаса --- это эффективный способ решения трехдиагональных матричных систем. Он основан на $LU$-разложении, при котором матричная система $Mx = r$ переписывается в виде $LUx = r$, где $L$ --- нижняя треугольная матрица, а $U$ --- верхняя треугольная матрица. Систему можно эффективно решить, задав $Ux = ρ$, а затем решив сначала $Lρ = r$ для $ρ$ и затем $Ux = ρ$ для $x$. Алгоритм Томаса состоит из двух шагов. На шаге 1 разлагается матрицы в $M = LU$ и решение $Lρ = r$ выполняются одним движением вниз, что приводит нас прямо от $Mx = r$ до $Ux = ρ$. На шаге 2 уравнение $Ux = ρ$ решается для $x$ в восходящем режиме.\n"
      ],
      "metadata": {
        "id": "0xDTmULhdWs_"
      }
    },
    {
      "cell_type": "code",
      "source": [
        "% Ваш код здесь"
      ],
      "metadata": {
        "colab": {
          "base_uri": "https://localhost:8080/",
          "height": 133
        },
        "id": "R0TPI8ppfbql",
        "outputId": "7af7e1a1-a588-4d09-b5f7-a311563fa7ef"
      },
      "execution_count": null,
      "outputs": [
        {
          "output_type": "error",
          "ename": "ERROR",
          "evalue": "ignored",
          "traceback": [
            "Error in parse(text = x, srcfile = src): <text>:1:1: unexpected input\n1: % Ваш код здесь\n    ^\nTraceback:\n"
          ]
        }
      ]
    }
  ]
}